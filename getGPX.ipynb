{
 "cells": [
  {
   "cell_type": "code",
   "execution_count": 1,
   "metadata": {},
   "outputs": [
    {
     "name": "stdout",
     "output_type": "stream",
     "text": [
      "Collecting SPARQLWrapper\n",
      "  Using cached SPARQLWrapper-2.0.0-py3-none-any.whl.metadata (2.0 kB)\n",
      "Collecting rdflib>=6.1.1 (from SPARQLWrapper)\n",
      "  Using cached rdflib-7.1.1-py3-none-any.whl.metadata (11 kB)\n",
      "Requirement already satisfied: pyparsing<4,>=2.1.0 in /home/lennert/.pyenv/versions/3.12.6/envs/hackalod/lib/python3.12/site-packages (from rdflib>=6.1.1->SPARQLWrapper) (3.2.0)\n",
      "Using cached SPARQLWrapper-2.0.0-py3-none-any.whl (28 kB)\n",
      "Using cached rdflib-7.1.1-py3-none-any.whl (562 kB)\n",
      "Installing collected packages: rdflib, SPARQLWrapper\n",
      "Successfully installed SPARQLWrapper-2.0.0 rdflib-7.1.1\n",
      "\n",
      "\u001b[1m[\u001b[0m\u001b[34;49mnotice\u001b[0m\u001b[1;39;49m]\u001b[0m\u001b[39;49m A new release of pip is available: \u001b[0m\u001b[31;49m24.2\u001b[0m\u001b[39;49m -> \u001b[0m\u001b[32;49m24.3.1\u001b[0m\n",
      "\u001b[1m[\u001b[0m\u001b[34;49mnotice\u001b[0m\u001b[1;39;49m]\u001b[0m\u001b[39;49m To update, run: \u001b[0m\u001b[32;49mpip install --upgrade pip\u001b[0m\n"
     ]
    }
   ],
   "source": [
    "!pip install SPARQLWrapper"
   ]
  },
  {
   "cell_type": "code",
   "execution_count": 1,
   "metadata": {},
   "outputs": [],
   "source": [
    "from SPARQLWrapper import SPARQLWrapper, JSON\n",
    "import requests\n",
    "\n",
    "# Set up the SPARQL wrapper\n",
    "endpoint_url = \"https://query.wikidata.org/sparql\"\n",
    "sparql = SPARQLWrapper(endpoint_url)\n"
   ]
  },
  {
   "cell_type": "code",
   "execution_count": 6,
   "metadata": {},
   "outputs": [
    {
     "name": "stdout",
     "output_type": "stream",
     "text": [
      "Q21856733\n",
      "200 OK\n"
     ]
    }
   ],
   "source": [
    "\n",
    "\n",
    "def save_gpx(qid:str):\n",
    "  query = f\"\"\"\n",
    "  #Wielrenners\n",
    "  #title: Wielrenners\n",
    "  SELECT DISTINCT ?race ?raceQid ?raceLabel ?startPointLabel ?startPointLongitude ?startPointLatitude  ?endPointLabel ?endPointLongitude ?endPointLatitude WHERE {{\n",
    "    ?race wdt:P1346|wdt:P2321|wdt:P710 wd:{qid};\n",
    "\n",
    "          \n",
    "          \n",
    "            wdt:P1427 ?startPoint;\n",
    "            wdt:P1444 ?endPoint.\n",
    "    ?startPoint wdt:P17 ?startPointCountry ;\n",
    "                wdt:P625 ?startPointCoords .\n",
    "    BIND(geof:latitude(?startPointCoords) AS ?startPointLatitude)\n",
    "      BIND(geof:longitude(?startPointCoords) AS ?startPointLongitude)\n",
    "    ?endPoint wdt:P17 ?endPointCountry ;\n",
    "              wdt:P625 ?endPointCoords .\n",
    "      BIND(geof:latitude(?endPointCoords) AS ?endPointLatitude)\n",
    "      BIND(geof:longitude(?endPointCoords) AS ?endPointLongitude)\n",
    "      BIND(STRAFTER(STR(?race), STR(wd:)) AS ?raceQid) \n",
    "    \n",
    "  \n",
    "    FILTER(?endPoint != ?startPoint && (?endPointCountry IN ( wd:Q31, wd:Q55 ) || ?endPointCountry IN ( wd:Q31, wd:Q55 )) )\n",
    "    SERVICE wikibase:label {{ bd:serviceParam wikibase:language \"nl,en,fr,mul\". }}\n",
    "  }}\n",
    "  \"\"\"\n",
    "\n",
    "\n",
    "  # Specify the query and format\n",
    "  sparql.setQuery(query)\n",
    "  sparql.setReturnFormat(JSON)\n",
    "\n",
    "  # Execute the query and get the results\n",
    "  results = sparql.query().convert()\n",
    "\n",
    "  # Parse and print the results\n",
    "  for result in results[\"results\"][\"bindings\"]:\n",
    "      race = result[\"raceQid\"][\"value\"]\n",
    "      body = {\"coordinates\":[[float(result[\"startPointLongitude\"][\"value\"]),float(result[\"startPointLatitude\"][\"value\"])],[float(result[\"endPointLongitude\"][\"value\"]),float(result[\"endPointLatitude\"][\"value\"])]]}\n",
    "      \n",
    "      print(race)\n",
    "      headers = {\n",
    "          'Accept': 'application/json, application/geo+json, application/gpx+xml, img/png; charset=utf-8',\n",
    "          'Authorization': '5b3ce3597851110001cf62489354ef714b2f4f2ca26b24494639a68c',\n",
    "          'Content-Type': 'application/json; charset=utf-8'\n",
    "      }\n",
    "      call = requests.post('https://api.openrouteservice.org/v2/directions/cycling-regular/gpx', json=body, headers=headers)\n",
    "\n",
    "      print(call.status_code, call.reason)\n",
    "      with open(f'data/{race}.xml', 'w') as file:\n",
    "          print(call.text, file=file)\n",
    "# Q234158\n",
    "# Q536470\n",
    "# Q454963\n",
    "# Q925964\n",
    "for qid in [\"Q925964\"]:\n",
    "   save_gpx(qid)"
   ]
  }
 ],
 "metadata": {
  "kernelspec": {
   "display_name": "hackalod",
   "language": "python",
   "name": "python3"
  },
  "language_info": {
   "codemirror_mode": {
    "name": "ipython",
    "version": 3
   },
   "file_extension": ".py",
   "mimetype": "text/x-python",
   "name": "python",
   "nbconvert_exporter": "python",
   "pygments_lexer": "ipython3",
   "version": "3.12.6"
  }
 },
 "nbformat": 4,
 "nbformat_minor": 2
}
